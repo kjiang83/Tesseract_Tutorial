{
 "cells": [
  {
   "cell_type": "code",
   "execution_count": null,
   "metadata": {},
   "outputs": [],
   "source": [
    "import cv2\n",
    "import pytesseract"
   ]
  },
  {
   "cell_type": "code",
   "execution_count": null,
   "metadata": {},
   "outputs": [],
   "source": [
    "pytesseract.pytesseract.tesseract_cmd = r\"C:\\Program Files\\Tesseract-OCR\\tesseract.exe\""
   ]
  },
  {
   "cell_type": "code",
   "execution_count": null,
   "metadata": {},
   "outputs": [],
   "source": [
    "img = cv2.imread('Image2.png')\n",
    "img = cv2.cvtColor(img, cv2.COLOR_BGR2RGB)"
   ]
  },
  {
   "cell_type": "code",
   "execution_count": null,
   "metadata": {},
   "outputs": [],
   "source": [
    "print(pytesseract.image_to_string(img))"
   ]
  },
  {
   "cell_type": "code",
   "execution_count": null,
   "metadata": {},
   "outputs": [],
   "source": [
    "print(img.shape)"
   ]
  },
  {
   "cell_type": "code",
   "execution_count": null,
   "metadata": {},
   "outputs": [],
   "source": [
    "# # Detecting Characters\n",
    "# Height, Width, Length = img.shape\n",
    "# boxes = pytesseract.image_to_boxes(img, lang = 'eng')\n",
    "# for b in boxes.splitlines():\n",
    "#     b = b.split(' ')\n",
    "#     x, y, w, h = int(b[1]), int(b[2]), int(b[3]), int(b[4])\n",
    "#     cv2.rectangle(img, (x, Height - y), (w, Height - h), (0, 0, 255), 1)\n",
    "#     cv2.putText(img, b[0], (x, Height - y), cv2.FONT_HERSHEY_COMPLEX, 1, (255, 0, 0), 1)"
   ]
  },
  {
   "cell_type": "code",
   "execution_count": null,
   "metadata": {},
   "outputs": [],
   "source": [
    "# Detecting Words\n",
    "Height, Width, Length = img.shape\n",
    "boxes = pytesseract.image_to_data(img)\n",
    "print(boxes)\n",
    "for x, b in enumerate(boxes.splitlines()):\n",
    "    if x != 0:\n",
    "        b = b.split()\n",
    "        # print(b)\n",
    "        if len(b) == 12:\n",
    "            x, y, w, h = int(b[6]), int(b[7]), int(b[8]), int(b[9])\n",
    "            cv2.rectangle(img, (x, y), (w + x, h + y), (0, 0, 255), 2)\n",
    "            cv2.putText(img, b[11], (x, y), cv2.FONT_HERSHEY_COMPLEX, 1, (255, 0, 0), 1)"
   ]
  },
  {
   "cell_type": "code",
   "execution_count": null,
   "metadata": {},
   "outputs": [],
   "source": [
    "# # Detecting Numbers Only\n",
    "# Height, Width, Length = img.shape\n",
    "# # check documentation for config details\n",
    "# conf = r'--oem 3 --psm 6 outputbase digits'\n",
    "# boxes = pytesseract.image_to_data(img, config = conf)\n",
    "# print(boxes)\n",
    "# for x, b in enumerate(boxes.splitlines()):\n",
    "#     if x != 0:\n",
    "#         b = b.split()\n",
    "#         # print(b)\n",
    "#         if len(b) == 12:\n",
    "#             x, y, w, h = int(b[6]), int(b[7]), int(b[8]), int(b[9])\n",
    "#             cv2.rectangle(img, (x, y), (w + x, h + y), (0, 0, 255), 2)\n",
    "#             # cv2.putText(img, b[11], (x, y), cv2.FONT_HERSHEY_COMPLEX, 1, (255, 0, 0), 1)"
   ]
  },
  {
   "cell_type": "code",
   "execution_count": null,
   "metadata": {},
   "outputs": [],
   "source": [
    "cv2.imshow('Result', img)\n",
    "cv2.waitKey(0)"
   ]
  }
 ],
 "metadata": {
  "interpreter": {
   "hash": "423cda8217e609788430d066b47af60792f37a57e20c9863beb686c9cbdad7d0"
  },
  "kernelspec": {
   "display_name": "Python 3.9.10 ('Tesseract_Tutorial')",
   "language": "python",
   "name": "python3"
  },
  "language_info": {
   "codemirror_mode": {
    "name": "ipython",
    "version": 3
   },
   "file_extension": ".py",
   "mimetype": "text/x-python",
   "name": "python",
   "nbconvert_exporter": "python",
   "pygments_lexer": "ipython3",
   "version": "3.9.10"
  },
  "orig_nbformat": 4
 },
 "nbformat": 4,
 "nbformat_minor": 2
}
